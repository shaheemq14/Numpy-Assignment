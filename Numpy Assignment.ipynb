{
 "cells": [
  {
   "cell_type": "code",
   "execution_count": null,
   "id": "4ed66877-959b-4c22-849e-998984f1b3f0",
   "metadata": {},
   "outputs": [],
   "source": [
    "import numpy as np\n",
    "list_ = [ '1' , '2' , '3' , '4' , '5' ]\n",
    "array_list = np.array(object = list_)"
   ]
  },
  {
   "cell_type": "code",
   "execution_count": null,
   "id": "cb1ec311-8bb3-4a4c-b3a9-436ae9c447bb",
   "metadata": {},
   "outputs": [],
   "source": [
    "Q1. Is there any difference in the data type of variables list_ and array_list? If there is then write a code\n",
    "to print the data types of both the variables."
   ]
  },
  {
   "cell_type": "code",
   "execution_count": 13,
   "id": "31316fda-efb7-4f4b-be8d-603ef15892a7",
   "metadata": {},
   "outputs": [
    {
     "name": "stdout",
     "output_type": "stream",
     "text": [
      "<class 'list'>\n",
      "<class 'numpy.ndarray'>\n"
     ]
    }
   ],
   "source": [
    "print(type(list_))\n",
    "print(type(array_list))"
   ]
  },
  {
   "cell_type": "code",
   "execution_count": null,
   "id": "590e7d22-815a-4eef-8931-f9e0dcae2e0d",
   "metadata": {},
   "outputs": [],
   "source": [
    "List_ datatype is list while\n",
    "array_list datatype is numpy array"
   ]
  },
  {
   "cell_type": "code",
   "execution_count": null,
   "id": "83179f52-7e3f-4029-83b0-9b56d4893779",
   "metadata": {},
   "outputs": [],
   "source": [
    "Q2. Write a code to print the data type of each and every element of both the variables list_ and\n",
    "arra_list."
   ]
  },
  {
   "cell_type": "code",
   "execution_count": 21,
   "id": "bfa5077b-14de-41ce-b194-cf4effc538cc",
   "metadata": {},
   "outputs": [
    {
     "name": "stdout",
     "output_type": "stream",
     "text": [
      "<class 'str'>\n",
      "<class 'str'>\n",
      "<class 'str'>\n",
      "<class 'str'>\n",
      "<class 'str'>\n",
      "<U1\n",
      "<class 'numpy.str_'>\n",
      "<class 'numpy.str_'>\n",
      "<class 'numpy.str_'>\n",
      "<class 'numpy.str_'>\n",
      "<class 'numpy.str_'>\n"
     ]
    }
   ],
   "source": [
    "#For List_\n",
    "for i in list_:\n",
    "    print(type(i))\n",
    "\n",
    "#For array_list\n",
    "print(array_list.dtype)\n",
    "for i in array_list:\n",
    "    print(type(i))"
   ]
  },
  {
   "cell_type": "code",
   "execution_count": null,
   "id": "a626f37f-2698-4d28-9f45-6d907e7be21d",
   "metadata": {},
   "outputs": [],
   "source": [
    "Q3. Considering the following changes in the variable, array_list:\n",
    "array_list = np.array(object = list_, dtype = int)"
   ]
  },
  {
   "cell_type": "code",
   "execution_count": 22,
   "id": "9deeeaf1-137f-448f-84bc-d4ce9c5e005a",
   "metadata": {},
   "outputs": [],
   "source": [
    "import numpy as np\n",
    "list_ = [ '1' , '2' , '3' , '4' , '5' ]\n",
    "array_list = np.array(object = list_, dtype = int)\n"
   ]
  },
  {
   "cell_type": "code",
   "execution_count": 27,
   "id": "2da215b2-3db3-4927-a340-43a27c134f18",
   "metadata": {},
   "outputs": [
    {
     "name": "stdout",
     "output_type": "stream",
     "text": [
      "<class 'list'>\n",
      "<class 'numpy.ndarray'>\n",
      "<class 'str'>\n",
      "<class 'str'>\n",
      "<class 'str'>\n",
      "<class 'str'>\n",
      "<class 'str'>\n",
      "int64\n",
      "<class 'numpy.int64'>\n",
      "<class 'numpy.int64'>\n",
      "<class 'numpy.int64'>\n",
      "<class 'numpy.int64'>\n",
      "<class 'numpy.int64'>\n"
     ]
    }
   ],
   "source": [
    "print(type(list_))\n",
    "print(type(array_list))\n",
    "#For List_\n",
    "for i in list_:\n",
    "    print(type(i))\n",
    "\n",
    "#For array_list\n",
    "print(array_list.dtype)\n",
    "for i in array_list:\n",
    "    print(type(i))"
   ]
  },
  {
   "cell_type": "code",
   "execution_count": null,
   "id": "8428549a-2558-4657-868c-e55046eabc4e",
   "metadata": {},
   "outputs": [],
   "source": [
    "The datatype of list_ and array_list is still the same i.e. list and array\n",
    "But\n",
    "The datatypes of elemts of in array_list are changed to String"
   ]
  },
  {
   "cell_type": "code",
   "execution_count": 30,
   "id": "0a40c4cb-2d3e-45c0-80c3-7bdf4db0ae47",
   "metadata": {},
   "outputs": [
    {
     "data": {
      "text/plain": [
       "array([[1, 2, 3],\n",
       "       [4, 5, 6]])"
      ]
     },
     "execution_count": 30,
     "metadata": {},
     "output_type": "execute_result"
    }
   ],
   "source": [
    "import numpy as np\n",
    "num_list = [ [ 1 , 2 , 3 ] , [ 4 , 5 , 6 ] ]\n",
    "num_array = np.array(object = num_list)\n",
    "num_array"
   ]
  },
  {
   "cell_type": "code",
   "execution_count": null,
   "id": "3b21f477-4ee7-4bfd-87eb-71eff39885e8",
   "metadata": {},
   "outputs": [],
   "source": [
    "Q4. Write a code to find the following characteristics of variable, num_array:\n",
    "(i) shape\n",
    "(ii) size"
   ]
  },
  {
   "cell_type": "code",
   "execution_count": 29,
   "id": "d4c93625-f95d-4746-93bb-e5a2e7e92684",
   "metadata": {},
   "outputs": [
    {
     "data": {
      "text/plain": [
       "(2, 3)"
      ]
     },
     "execution_count": 29,
     "metadata": {},
     "output_type": "execute_result"
    }
   ],
   "source": [
    "np.shape(num_array)"
   ]
  },
  {
   "cell_type": "code",
   "execution_count": 31,
   "id": "31be8ffb-7fea-40ec-87cc-f9e3506b456d",
   "metadata": {},
   "outputs": [
    {
     "data": {
      "text/plain": [
       "6"
      ]
     },
     "execution_count": 31,
     "metadata": {},
     "output_type": "execute_result"
    }
   ],
   "source": [
    "np.size(num_array)"
   ]
  },
  {
   "cell_type": "code",
   "execution_count": null,
   "id": "54bfd8e3-e400-4720-97b7-70e7488e9de1",
   "metadata": {},
   "outputs": [],
   "source": [
    "Q5. Write a code to create numpy array of 3*3 matrix containing zeros only, using a numpy array\n",
    "creation function."
   ]
  },
  {
   "cell_type": "code",
   "execution_count": 33,
   "id": "af17b7df-01ca-49ec-bbf0-e466cbc1afc0",
   "metadata": {},
   "outputs": [
    {
     "data": {
      "text/plain": [
       "array([[0., 0., 0.],\n",
       "       [0., 0., 0.],\n",
       "       [0., 0., 0.]])"
      ]
     },
     "execution_count": 33,
     "metadata": {},
     "output_type": "execute_result"
    }
   ],
   "source": [
    "np.zeros((3,3))"
   ]
  },
  {
   "cell_type": "code",
   "execution_count": null,
   "id": "0aef5240-208e-4fa4-a168-7322e4670093",
   "metadata": {},
   "outputs": [],
   "source": [
    "Q6. Create an identity matrix of shape (5,5) using numpy functions?"
   ]
  },
  {
   "cell_type": "code",
   "execution_count": 36,
   "id": "24b3a35e-f828-4ff2-8ebd-b15bf95978bc",
   "metadata": {},
   "outputs": [
    {
     "data": {
      "text/plain": [
       "array([[1., 0., 0., 0., 0.],\n",
       "       [0., 1., 0., 0., 0.],\n",
       "       [0., 0., 1., 0., 0.],\n",
       "       [0., 0., 0., 1., 0.],\n",
       "       [0., 0., 0., 0., 1.]])"
      ]
     },
     "execution_count": 36,
     "metadata": {},
     "output_type": "execute_result"
    }
   ],
   "source": [
    "np.eye(5)"
   ]
  },
  {
   "cell_type": "code",
   "execution_count": null,
   "id": "cdba7c65-5dbe-41c9-b300-ebb263d0ef1c",
   "metadata": {},
   "outputs": [],
   "source": []
  }
 ],
 "metadata": {
  "kernelspec": {
   "display_name": "Python 3 (ipykernel)",
   "language": "python",
   "name": "python3"
  },
  "language_info": {
   "codemirror_mode": {
    "name": "ipython",
    "version": 3
   },
   "file_extension": ".py",
   "mimetype": "text/x-python",
   "name": "python",
   "nbconvert_exporter": "python",
   "pygments_lexer": "ipython3",
   "version": "3.10.8"
  }
 },
 "nbformat": 4,
 "nbformat_minor": 5
}
